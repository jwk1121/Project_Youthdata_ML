{
  "nbformat": 4,
  "nbformat_minor": 0,
  "metadata": {
    "colab": {
      "name": "Accuracy by model ",
      "provenance": [],
      "collapsed_sections": []
    },
    "kernelspec": {
      "name": "python3",
      "display_name": "Python 3"
    },
    "language_info": {
      "name": "python"
    },
    "accelerator": "GPU",
    "gpuClass": "standard"
  },
  "cells": [
    {
      "cell_type": "markdown",
      "source": [
        "# 데이터 전처리"
      ],
      "metadata": {
        "id": "VS9s0XKbyXGT"
      }
    },
    {
      "cell_type": "code",
      "source": [
        "import pandas as pd\n",
        "import numpy as np\n",
        "import matplotlib.pyplot as plt\n",
        "\n",
        "data=pd.read_csv('/content/y2019_male.csv',encoding='cp949')\n",
        "\n",
        "data.set_index(keys='Unnamed: 0',inplace=True) #index를 Unnamed: 0으로 바꿔줌\n",
        "data.dropna(inplace=True)\n",
        "\n",
        "a = ['S_SI', 'MH', 'SCHOOL', 'STYPE', 'CTYPE', 'E_RES',\n",
        "       'E_SES', 'E_S_RCRD', 'GRADE', 'PR_HT', 'PR_BI', 'F_BR', 'PA_MSC', 'bmi',\n",
        "       'WC_MN', 'M_STR', 'M_SLP_EN', 'M_SAD', 'M_SUI_CON', 'M_SUI_PLN',#stratify 값을 target으로 지정해주면 각각의 class 비율(ratio)을 train / validation에 유지\n",
        "       'M_SUI_ATT', 'V_TRT', 'AC_LT', 'AC_FAGE', 'AC_DAYS', 'AC_AMNT',\n",
        "       'AC_ACCESS', 'TC_A_LT', 'TC_FAGE', 'TC_ACCESS', 'DR_EXP',\n",
        "       'S_EDU', 'MF', 'RF', 'FN2', 'parents2', 'INT_WK_MM', 'INT_WD_MM']\n",
        "\n",
        "data['MH'].replace({'고등학교':0,'중학교': 1}, inplace=True)\n",
        "data['SCHOOL'].replace({'일반계고':0,'중학교': 1,'특성화계고':2}, inplace=True)\n",
        "data['STYPE'].replace({'남녀공학':0,'남학교': 1}, inplace=True)\n",
        "data['CTYPE'].replace({'군지역':0,'대도시': 1,'중소도시':2}, inplace=True)\n",
        "\n",
        "for i in a:\n",
        "  data[i] = data[i].astype('category')\n",
        "\n",
        "datas = data[['MH', 'SCHOOL', 'STYPE', 'CTYPE', 'E_RES',\n",
        "       'E_SES', 'E_S_RCRD', 'GRADE', 'PR_HT', 'PR_BI', 'F_BR', 'PA_MSC', 'bmi',\n",
        "       'WC_MN', 'M_STR', 'M_SLP_EN', 'M_SAD', 'M_SUI_CON', 'M_SUI_PLN',\n",
        "       'M_SUI_ATT', 'V_TRT', 'AC_LT', 'AC_FAGE', 'AC_DAYS', 'AC_AMNT',\n",
        "       'AC_ACCESS', 'TC_A_LT', 'TC_FAGE', 'TC_ACCESS', 'DR_EXP',\n",
        "       'S_EDU', 'MF', 'RF', 'FN2', 'parents2', 'INT_WK_MM', 'INT_WD_MM']]\n",
        "\n",
        "data_target = data['S_SI']\n",
        "\n",
        "from sklearn.model_selection import train_test_split\n",
        "X_train, X_test, y_train, y_test = train_test_split(\n",
        "    datas, data_target, stratify=data_target, random_state=42) "
      ],
      "metadata": {
        "id": "lo9TlWPVqyLm"
      },
      "execution_count": 26,
      "outputs": []
    },
    {
      "cell_type": "markdown",
      "source": [
        "# [로지스틱 회귀]"
      ],
      "metadata": {
        "id": "kpHm3C7Fv1iD"
      }
    },
    {
      "cell_type": "markdown",
      "source": [
        "모델 생성 및 정확도 출력"
      ],
      "metadata": {
        "id": "eytUQotF1eL1"
      }
    },
    {
      "cell_type": "code",
      "source": [
        "from sklearn.linear_model import LogisticRegression\n",
        "\n",
        "# 모델 생성 및 학습 시키기\n",
        "logistic = LogisticRegression(random_state=0)\n",
        "logistic.fit(X_train, y_train)\n",
        "\n",
        "#모델 정확도 출력\n",
        "print(\"훈련 세트 정확도: {:.3f}\".format(logistic.score(X_train,y_train)))\n",
        "print(\"테스트 세트 정확도: {:.3f}\".format(logistic.score(X_test, y_test)))"
      ],
      "metadata": {
        "colab": {
          "base_uri": "https://localhost:8080/"
        },
        "id": "eNtetf6qvy5A",
        "outputId": "d7dd1002-d971-443f-8d04-71f8a03227b8"
      },
      "execution_count": 33,
      "outputs": [
        {
          "output_type": "stream",
          "name": "stdout",
          "text": [
            "훈련 세트 정확도: 0.937\n",
            "테스트 세트 정확도: 0.937\n"
          ]
        },
        {
          "output_type": "stream",
          "name": "stderr",
          "text": [
            "/usr/local/lib/python3.7/dist-packages/sklearn/linear_model/_logistic.py:818: ConvergenceWarning: lbfgs failed to converge (status=1):\n",
            "STOP: TOTAL NO. of ITERATIONS REACHED LIMIT.\n",
            "\n",
            "Increase the number of iterations (max_iter) or scale the data as shown in:\n",
            "    https://scikit-learn.org/stable/modules/preprocessing.html\n",
            "Please also refer to the documentation for alternative solver options:\n",
            "    https://scikit-learn.org/stable/modules/linear_model.html#logistic-regression\n",
            "  extra_warning_msg=_LOGISTIC_SOLVER_CONVERGENCE_MSG,\n"
          ]
        }
      ]
    },
    {
      "cell_type": "markdown",
      "source": [
        "변수별 계수 시각화"
      ],
      "metadata": {
        "id": "tHFDa8no1dh_"
      }
    },
    {
      "cell_type": "code",
      "source": [
        "n_features = datas.shape[1]\n",
        "plt.barh(range(n_features), logistic.coef_.reshape(37,), align='center')\n",
        "plt.yticks(np.arange(n_features), datas.columns)\n",
        "plt.tick_params(axis='y',  labelsize=5, width=2)\n",
        "plt.xlabel(\"coefficient\")\n",
        "plt.ylabel(\"feature\")\n",
        "plt.ylim(-1, n_features)\n",
        "plt.savefig('logistic_coef.png',dpi=200)"
      ],
      "metadata": {
        "colab": {
          "base_uri": "https://localhost:8080/",
          "height": 279
        },
        "id": "dEfcRBEezDAW",
        "outputId": "34e98b3d-a207-4e1b-bf78-b5953a957348"
      },
      "execution_count": 37,
      "outputs": [
        {
          "output_type": "display_data",
          "data": {
            "text/plain": [
              "<Figure size 432x288 with 1 Axes>"
            ],
            "image/png": "[encoded data removed]"
          },
          "metadata": {
            "needs_background": "light"
          }
        }
      ]
    },
    {
      "cell_type": "markdown",
      "source": [
        "변수별 계수 시각화 (절대값)"
      ],
      "metadata": {
        "id": "N6cIe3Ch4OtK"
      }
    },
    {
      "cell_type": "code",
      "source": [
        "n_features = datas.shape[1]\n",
        "plt.barh(range(n_features), abs(logistic.coef_.reshape(37,)), align='center')\n",
        "plt.yticks(np.arange(n_features), datas.columns)\n",
        "plt.tick_params(axis='y',  labelsize=5, width=2)\n",
        "plt.xlabel(\"coefficient\")\n",
        "plt.ylabel(\"feature\")\n",
        "plt.ylim(-1, n_features)\n",
        "plt.savefig('logistic_coef_abs.png',dpi=200)"
      ],
      "metadata": {
        "colab": {
          "base_uri": "https://localhost:8080/",
          "height": 279
        },
        "id": "FcwwldXO4OQE",
        "outputId": "50479309-e596-4e6c-b1d6-813709be7366"
      },
      "execution_count": 36,
      "outputs": [
        {
          "output_type": "display_data",
          "data": {
            "text/plain": [
              "<Figure size 432x288 with 1 Axes>"
            ],
            "image/png": "[encoded data removed]"
          },
          "metadata": {
            "needs_background": "light"
          }
        }
      ]
    },
    {
      "cell_type": "markdown",
      "source": [
        "# [결정트리]"
      ],
      "metadata": {
        "id": "Th1LS1zAvsyE"
      }
    },
    {
      "cell_type": "markdown",
      "source": [
        "모델 생성 및 정확도 출력"
      ],
      "metadata": {
        "id": "95Tw2Epz1or0"
      }
    },
    {
      "cell_type": "code",
      "source": [
        "from sklearn.tree import DecisionTreeClassifier\n",
        "\n",
        "# 모델 생성 및 학습 시키기\n",
        "tree = DecisionTreeClassifier(random_state=0)\n",
        "tree.fit(X_train, y_train)\n",
        "\n",
        "#모델 정확도 출력\n",
        "print(\"훈련 세트 정확도: {:.3f}\".format(tree.score(X_train, y_train)))\n",
        "print(\"테스트 세트 정확도: {:.3f}\".format(tree.score(X_test, y_test)))"
      ],
      "metadata": {
        "colab": {
          "base_uri": "https://localhost:8080/"
        },
        "id": "x7hj5sEvvsQ1",
        "outputId": "04795d7e-d7ea-4002-9666-079de3bc71a6"
      },
      "execution_count": 20,
      "outputs": [
        {
          "output_type": "stream",
          "name": "stdout",
          "text": [
            "훈련 세트 정확도: 1.000\n",
            "테스트 세트 정확도: 0.886\n"
          ]
        }
      ]
    },
    {
      "cell_type": "markdown",
      "source": [
        "변수별 중요도 출력"
      ],
      "metadata": {
        "id": "qCjb2ud61sWm"
      }
    },
    {
      "cell_type": "code",
      "source": [
        "def plot_feature_importances(model):\n",
        "    n_features = datas.shape[1]\n",
        "    plt.barh(range(n_features), model.feature_importances_, align='center')\n",
        "    plt.yticks(np.arange(n_features), datas.columns)\n",
        "    plt.tick_params(axis='y',  labelsize=5, width=2)\n",
        "    plt.xlabel(\"feature_importance\")\n",
        "    plt.ylabel(\"feature\")\n",
        "    plt.ylim(-1, n_features)\n",
        "    plt.savefig('tree_variable_importance.png',dpi=200)\n",
        "\n",
        "plot_feature_importances(tree)"
      ],
      "metadata": {
        "colab": {
          "base_uri": "https://localhost:8080/",
          "height": 280
        },
        "id": "FN3-UdE70NKL",
        "outputId": "bed1af6a-12f5-4087-bcfc-750b1e404a7c"
      },
      "execution_count": 38,
      "outputs": [
        {
          "output_type": "display_data",
          "data": {
            "text/plain": [
              "<Figure size 432x288 with 1 Axes>"
            ],
            "image/png": "[encoded data removed]"
          },
          "metadata": {
            "needs_background": "light"
          }
        }
      ]
    },
    {
      "cell_type": "markdown",
      "source": [
        "# [랜덤 포레스트]"
      ],
      "metadata": {
        "id": "FKqZpwBa2Blk"
      }
    },
    {
      "cell_type": "markdown",
      "source": [
        "모델 생성 및 정확도 출력"
      ],
      "metadata": {
        "id": "l07BSOIu3342"
      }
    },
    {
      "cell_type": "code",
      "source": [
        "from sklearn.ensemble import RandomForestClassifier\n",
        "from sklearn.metrics import accuracy_score \n",
        "\n",
        "# 모델 생성 및 학습 시키기\n",
        "rf = RandomForestClassifier(random_state=0)\n",
        "rf.fit(X_train, y_train)\n",
        "\n",
        "# 모델 정확도 출력\n",
        "predict1 = rf.predict(X_train)\n",
        "predict2 = rf.predict(X_test)\n",
        "\n",
        "print(\"훈련 세트 정확도: {:.3f}\".format(accuracy_score(y_train, predict1)))\n",
        "print(\"테스트 세트 정확도: {:.3f}\".format(accuracy_score(y_test, predict2)))"
      ],
      "metadata": {
        "colab": {
          "base_uri": "https://localhost:8080/"
        },
        "id": "Ue-ITM2k1_pw",
        "outputId": "63bffdc4-bd0a-44be-9eb2-0b2cc1a932f7"
      },
      "execution_count": 30,
      "outputs": [
        {
          "output_type": "stream",
          "name": "stdout",
          "text": [
            "훈련 세트 정확도: 1.000\n",
            "테스트 세트 정확도: 0.938\n"
          ]
        }
      ]
    },
    {
      "cell_type": "markdown",
      "source": [
        "변수별 중요도 출력"
      ],
      "metadata": {
        "id": "CWuFfFsu39jC"
      }
    },
    {
      "cell_type": "code",
      "source": [
        "n_features = datas.shape[1]\n",
        "plt.barh(range(n_features), rf.feature_importances_, align='center')\n",
        "plt.yticks(np.arange(n_features), datas.columns)\n",
        "plt.tick_params(axis='y',  labelsize=5, width=2)\n",
        "plt.xlabel(\"feature_importance\")\n",
        "plt.ylabel(\"feature\")\n",
        "plt.ylim(-1, n_features)\n",
        "plt.savefig('rf_variable_importance.png',dpi=200)"
      ],
      "metadata": {
        "colab": {
          "base_uri": "https://localhost:8080/",
          "height": 280
        },
        "id": "ipaT4nFV3e-0",
        "outputId": "2adfa9af-7a3d-4e16-82e7-10cb94c3925a"
      },
      "execution_count": 32,
      "outputs": [
        {
          "output_type": "display_data",
          "data": {
            "text/plain": [
              "<Figure size 432x288 with 1 Axes>"
            ],
            "image/png": "[encoded data removed]"
          },
          "metadata": {
            "needs_background": "light"
          }
        }
      ]
    }
  ]
}
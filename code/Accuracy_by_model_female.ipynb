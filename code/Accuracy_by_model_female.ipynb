{
  "nbformat": 4,
  "nbformat_minor": 0,
  "metadata": {
    "colab": {
      "provenance": [],
      "collapsed_sections": []
    },
    "kernelspec": {
      "name": "python3",
      "display_name": "Python 3"
    },
    "language_info": {
      "name": "python"
    },
    "accelerator": "GPU",
    "gpuClass": "standard"
  },
  "cells": [
    {
      "cell_type": "markdown",
      "source": [
        "# 데이터 전처리"
      ],
      "metadata": {
        "id": "VS9s0XKbyXGT"
      }
    },
    {
      "cell_type": "code",
      "source": [
        "import pandas as pd\n",
        "import numpy as np\n",
        "import matplotlib.pyplot as plt\n",
        "from sklearn.preprocessing import StandardScaler"
      ],
      "metadata": {
        "id": "R7hvQJ2OmmgC"
      },
      "execution_count": null,
      "outputs": []
    },
    {
      "cell_type": "code",
      "source": [
        "from google.colab import drive\n",
        "drive.mount('/content/drive') # 내 드라이브에 있는 데이터를 읽을 때 사용(코랩에 구글 드라이브를 연결시켜주는 코드)"
      ],
      "metadata": {
        "id": "PQ5QR23gmn0v",
        "colab": {
          "base_uri": "https://localhost:8080/"
        },
        "outputId": "bd8d0a62-f40b-48ea-9a9f-ddbe1b90bbdd"
      },
      "execution_count": null,
      "outputs": [
        {
          "output_type": "stream",
          "name": "stdout",
          "text": [
            "Drive already mounted at /content/drive; to attempt to forcibly remount, call drive.mount(\"/content/drive\", force_remount=True).\n"
          ]
        }
      ]
    },
    {
      "cell_type": "code",
      "source": [
        "#data = pd.read_csv('/content/drive/MyDrive/랩실/[간호대]data/y2019_female.csv',encoding='cp949') \n",
        "#data = pd.read_csv('/content/drive/MyDrive/랩실/[간호대]data/y2020_female.csv',encoding='cp949') \n",
        "data = pd.read_csv('/content/drive/MyDrive/랩실/[간호대]data/y2021_female.csv',encoding='cp949') "
      ],
      "metadata": {
        "id": "SaBMtpnvmpwm"
      },
      "execution_count": null,
      "outputs": []
    },
    {
      "cell_type": "code",
      "source": [
        "data.columns"
      ],
      "metadata": {
        "id": "TWCBj42rmsDU",
        "colab": {
          "base_uri": "https://localhost:8080/"
        },
        "outputId": "95d74f02-82cc-4dc6-84f4-a8ef81922de4"
      },
      "execution_count": null,
      "outputs": [
        {
          "output_type": "execute_result",
          "data": {
            "text/plain": [
              "Index(['Unnamed: 0', 'S_SI', 'MH', 'SCHOOL', 'STYPE', 'CTYPE', 'E_RES',\n",
              "       'E_SES', 'E_S_RCRD', 'GRADE', 'PR_HT', 'PR_BI', 'F_BR', 'bmi', 'WC_MN',\n",
              "       'M_STR', 'M_SLP_EN', 'M_SAD', 'M_SUI_CON', 'M_SUI_PLN', 'M_SUI_ATT',\n",
              "       'V_TRT', 'AC_LT', 'AC_FAGE', 'AC_DAYS', 'AC_AMNT', 'AC_ACCESS',\n",
              "       'TC_A_LT', 'TC_FAGE', 'TC_ACCESS', 'DR_HAB', 'SEX', 'S_EDU', 'MF', 'RF',\n",
              "       'FN2', 'parents2', 'INT_SPWD_TM', 'INT_SPWK_TM', 'O_BR_S', 'TC_AMNT',\n",
              "       'TC_QT_YR', 'PA_SWD_N', 'PA_SWD_S', 'PA_SWK_N', 'PA_SWK_S',\n",
              "       'F_FASTFOOD', 'E_COVID19', 'E_AID', 'S_FAGE', 'GAD'],\n",
              "      dtype='object')"
            ]
          },
          "metadata": {},
          "execution_count": 105
        }
      ]
    },
    {
      "cell_type": "code",
      "source": [
        "data.set_index(keys='Unnamed: 0',inplace=True) #index를 Unnamed: 0으로 바꿔줌\n",
        "data.dropna(inplace=True)\n",
        "\n",
        "data['MH'].replace({'고등학교':0,'중학교': 1}, inplace=True)\n",
        "data['SCHOOL'].replace({'일반계고':0,'중학교': 1,'특성화계고':2}, inplace=True)\n",
        "data['STYPE'].replace({'남녀공학':0,'여학교': 1}, inplace=True)\n",
        "data['CTYPE'].replace({'군지역':0,'대도시': 1,'중소도시':2}, inplace=True)"
      ],
      "metadata": {
        "id": "lo9TlWPVqyLm"
      },
      "execution_count": null,
      "outputs": []
    },
    {
      "cell_type": "code",
      "source": [
        "# 데이터 형식을 카테고리형으로 변경하기 (수치형 변수로 사용할 변수는 반드시 삭제!) (SEX, S_FAGE 삭제!!)\n",
        "a = ['MH', 'SCHOOL', 'STYPE', 'CTYPE', 'E_RES',\n",
        "       'E_SES', 'E_S_RCRD', 'GRADE', 'PR_HT', 'PR_BI', 'F_BR', 'bmi', 'WC_MN',\n",
        "       'M_STR', 'M_SLP_EN', 'M_SAD', 'M_SUI_CON', 'M_SUI_PLN', 'M_SUI_ATT',\n",
        "       'V_TRT', 'AC_LT', 'AC_FAGE', 'AC_DAYS', 'AC_AMNT', 'AC_ACCESS',\n",
        "       'TC_A_LT', 'TC_FAGE', 'TC_ACCESS', 'DR_HAB',  'S_EDU', 'MF', 'RF',\n",
        "       'FN2', 'parents2', 'O_BR_S', 'TC_AMNT', 'TC_QT_YR', 'F_FASTFOOD', 'E_COVID19', 'E_AID', 'GAD']\n",
        "\n",
        "# columns를 결과를 a에 넣고 아래 변수들을 삭제\n",
        "\n",
        "# S_SI는 안 넣어도 됨\n",
        "\n",
        "# 2019년 수치형 변수: 'PA_SWD_N', 'PA_SWD_S', 'PA_SWK_N', 'PA_SWK_S', 'INT_WK_MM', 'INT_WD_MM'\n",
        "\n",
        "# 2020년 수치형 변수: 'PA_SWD_N', 'PA_SWD_S', 'PA_SWK_N', 'PA_SWK_S', 'INT_SPWD_TM', 'INT_SPWK_TM' \n",
        "\n",
        "# 2021년 수치형 변수: 'PA_SWD_N', 'PA_SWD_S', 'PA_SWK_N', 'PA_SWK_S', 'INT_SPWD_TM', 'INT_SPWK_TM'\n",
        "\n",
        "for i in a:\n",
        "  data[i] = data[i].astype('category')"
      ],
      "metadata": {
        "id": "h6hss-mGRHWU"
      },
      "execution_count": null,
      "outputs": []
    },
    {
      "cell_type": "code",
      "source": [
        "#수치형 변수는 스케일링을 해야 함\n",
        "scaler= StandardScaler()\n",
        "\n",
        "# 2019년 수치형 변수: 'PA_SWD_N', 'PA_SWD_S', 'PA_SWK_N', 'PA_SWK_S', 'INT_WK_MM', 'INT_WD_MM'\n",
        "\n",
        "# 2020년 수치형 변수: 'PA_SWD_N', 'PA_SWD_S', 'PA_SWK_N', 'PA_SWK_S', 'INT_SPWD_TM', 'INT_SPWK_TM' \n",
        "\n",
        "# 2021년 수치형 변수: 'PA_SWD_N', 'PA_SWD_S', 'PA_SWK_N', 'PA_SWK_S', 'INT_SPWD_TM', 'INT_SPWK_TM'\n",
        "\n",
        "#공통\n",
        "data['PA_SWD_N'] = scaler.fit_transform(data[['PA_SWD_N']])\n",
        "data['PA_SWD_S'] = scaler.fit_transform(data[['PA_SWD_S']])\n",
        "data['PA_SWK_N'] = scaler.fit_transform(data[['PA_SWK_N']])\n",
        "data['PA_SWK_S'] = scaler.fit_transform(data[['PA_SWK_S']])\n",
        "\n",
        "#년도별로 다름\n",
        "data['INT_SPWD_TM'] = scaler.fit_transform(data[['INT_SPWD_TM']])\n",
        "data['INT_SPWK_TM'] = scaler.fit_transform(data[['INT_SPWK_TM']])"
      ],
      "metadata": {
        "id": "_MqIApAq4kTZ"
      },
      "execution_count": null,
      "outputs": []
    },
    {
      "cell_type": "code",
      "source": [
        "# columns에서 S_SI, SEX, S_FAGE 빼고 복붙\n",
        "\n",
        "datas = data[[ 'MH', 'SCHOOL', 'STYPE', 'CTYPE', 'E_RES',\n",
        "       'E_SES', 'E_S_RCRD', 'GRADE', 'PR_HT', 'PR_BI', 'F_BR', 'bmi', 'WC_MN',\n",
        "       'M_STR', 'M_SLP_EN', 'M_SAD', 'M_SUI_CON', 'M_SUI_PLN', 'M_SUI_ATT',\n",
        "       'V_TRT', 'AC_LT', 'AC_FAGE', 'AC_DAYS', 'AC_AMNT', 'AC_ACCESS',\n",
        "       'TC_A_LT', 'TC_FAGE', 'TC_ACCESS', 'DR_HAB',  'S_EDU', 'MF', 'RF',\n",
        "       'FN2', 'parents2', 'INT_SPWD_TM', 'INT_SPWK_TM', 'O_BR_S', 'TC_AMNT',\n",
        "       'TC_QT_YR', 'PA_SWD_N', 'PA_SWD_S', 'PA_SWK_N', 'PA_SWK_S',\n",
        "       'F_FASTFOOD', 'E_COVID19', 'E_AID', 'GAD']]\n",
        "\n",
        "data_target = data['S_SI']"
      ],
      "metadata": {
        "id": "qqyRNY2L4jNr"
      },
      "execution_count": null,
      "outputs": []
    },
    {
      "cell_type": "code",
      "source": [
        "datas = pd.get_dummies(datas, columns = a)"
      ],
      "metadata": {
        "id": "43d0FyXcS6r8"
      },
      "execution_count": null,
      "outputs": []
    },
    {
      "cell_type": "code",
      "source": [
        "datas.columns"
      ],
      "metadata": {
        "colab": {
          "base_uri": "https://localhost:8080/"
        },
        "id": "qF9CRVTsR08W",
        "outputId": "13d81b30-a325-4b7f-9f2a-bd6a99a1bf1d"
      },
      "execution_count": null,
      "outputs": [
        {
          "output_type": "execute_result",
          "data": {
            "text/plain": [
              "Index(['INT_SPWD_TM', 'INT_SPWK_TM', 'PA_SWD_N', 'PA_SWD_S', 'PA_SWK_N',\n",
              "       'PA_SWK_S', 'MH_0', 'MH_1', 'SCHOOL_0', 'SCHOOL_1',\n",
              "       ...\n",
              "       'E_COVID19_1', 'E_COVID19_2', 'E_COVID19_3', 'E_COVID19_4', 'E_AID_1',\n",
              "       'E_AID_2', 'GAD_0', 'GAD_1', 'GAD_2', 'GAD_3'],\n",
              "      dtype='object', length=187)"
            ]
          },
          "metadata": {},
          "execution_count": 111
        }
      ]
    },
    {
      "cell_type": "code",
      "source": [
        "#stratify 값을 target으로 지정해주면 각각의 class 비율(ratio)을 train / validation에 유지\n",
        "from sklearn.model_selection import train_test_split\n",
        "X_train, X_test, y_train, y_test = train_test_split(\n",
        "    datas, data_target, stratify=data_target, random_state=42) "
      ],
      "metadata": {
        "id": "Dw81b6KfRuhi"
      },
      "execution_count": null,
      "outputs": []
    },
    {
      "cell_type": "markdown",
      "source": [
        "# [로지스틱 회귀]"
      ],
      "metadata": {
        "id": "kpHm3C7Fv1iD"
      }
    },
    {
      "cell_type": "markdown",
      "source": [
        "모델 생성 및 정확도 출력"
      ],
      "metadata": {
        "id": "eytUQotF1eL1"
      }
    },
    {
      "cell_type": "code",
      "source": [
        "from sklearn.linear_model import LogisticRegression\n",
        "\n",
        "# 모델 생성 및 학습 시키기\n",
        "logistic = LogisticRegression(random_state=0)\n",
        "logistic.fit(X_train, y_train)\n",
        "\n",
        "#모델 정확도 출력\n",
        "print(\"훈련 세트 정확도: {:.3f}\".format(logistic.score(X_train,y_train)))\n",
        "print(\"테스트 세트 정확도: {:.3f}\".format(logistic.score(X_test, y_test)))"
      ],
      "metadata": {
        "colab": {
          "base_uri": "https://localhost:8080/"
        },
        "id": "eNtetf6qvy5A",
        "outputId": "9c256627-9b04-433c-806e-d7f0ada40108"
      },
      "execution_count": null,
      "outputs": [
        {
          "output_type": "stream",
          "name": "stdout",
          "text": [
            "훈련 세트 정확도: 0.969\n",
            "테스트 세트 정확도: 0.967\n"
          ]
        },
        {
          "output_type": "stream",
          "name": "stderr",
          "text": [
            "/usr/local/lib/python3.7/dist-packages/sklearn/linear_model/_logistic.py:818: ConvergenceWarning: lbfgs failed to converge (status=1):\n",
            "STOP: TOTAL NO. of ITERATIONS REACHED LIMIT.\n",
            "\n",
            "Increase the number of iterations (max_iter) or scale the data as shown in:\n",
            "    https://scikit-learn.org/stable/modules/preprocessing.html\n",
            "Please also refer to the documentation for alternative solver options:\n",
            "    https://scikit-learn.org/stable/modules/linear_model.html#logistic-regression\n",
            "  extra_warning_msg=_LOGISTIC_SOLVER_CONVERGENCE_MSG,\n"
          ]
        }
      ]
    },
    {
      "cell_type": "code",
      "source": [
        "from sklearn.model_selection import cross_validate\n",
        "from sklearn.model_selection import StratifiedKFold\n",
        "scores = cross_validate(logistic, X_test, y_test, cv = StratifiedKFold())"
      ],
      "metadata": {
        "id": "KxMCqMeMul12",
        "colab": {
          "base_uri": "https://localhost:8080/"
        },
        "outputId": "718ca0b0-3971-4b63-8286-28d3c38fd206"
      },
      "execution_count": null,
      "outputs": [
        {
          "output_type": "stream",
          "name": "stderr",
          "text": [
            "/usr/local/lib/python3.7/dist-packages/sklearn/linear_model/_logistic.py:818: ConvergenceWarning: lbfgs failed to converge (status=1):\n",
            "STOP: TOTAL NO. of ITERATIONS REACHED LIMIT.\n",
            "\n",
            "Increase the number of iterations (max_iter) or scale the data as shown in:\n",
            "    https://scikit-learn.org/stable/modules/preprocessing.html\n",
            "Please also refer to the documentation for alternative solver options:\n",
            "    https://scikit-learn.org/stable/modules/linear_model.html#logistic-regression\n",
            "  extra_warning_msg=_LOGISTIC_SOLVER_CONVERGENCE_MSG,\n",
            "/usr/local/lib/python3.7/dist-packages/sklearn/linear_model/_logistic.py:818: ConvergenceWarning: lbfgs failed to converge (status=1):\n",
            "STOP: TOTAL NO. of ITERATIONS REACHED LIMIT.\n",
            "\n",
            "Increase the number of iterations (max_iter) or scale the data as shown in:\n",
            "    https://scikit-learn.org/stable/modules/preprocessing.html\n",
            "Please also refer to the documentation for alternative solver options:\n",
            "    https://scikit-learn.org/stable/modules/linear_model.html#logistic-regression\n",
            "  extra_warning_msg=_LOGISTIC_SOLVER_CONVERGENCE_MSG,\n",
            "/usr/local/lib/python3.7/dist-packages/sklearn/linear_model/_logistic.py:818: ConvergenceWarning: lbfgs failed to converge (status=1):\n",
            "STOP: TOTAL NO. of ITERATIONS REACHED LIMIT.\n",
            "\n",
            "Increase the number of iterations (max_iter) or scale the data as shown in:\n",
            "    https://scikit-learn.org/stable/modules/preprocessing.html\n",
            "Please also refer to the documentation for alternative solver options:\n",
            "    https://scikit-learn.org/stable/modules/linear_model.html#logistic-regression\n",
            "  extra_warning_msg=_LOGISTIC_SOLVER_CONVERGENCE_MSG,\n",
            "/usr/local/lib/python3.7/dist-packages/sklearn/linear_model/_logistic.py:818: ConvergenceWarning: lbfgs failed to converge (status=1):\n",
            "STOP: TOTAL NO. of ITERATIONS REACHED LIMIT.\n",
            "\n",
            "Increase the number of iterations (max_iter) or scale the data as shown in:\n",
            "    https://scikit-learn.org/stable/modules/preprocessing.html\n",
            "Please also refer to the documentation for alternative solver options:\n",
            "    https://scikit-learn.org/stable/modules/linear_model.html#logistic-regression\n",
            "  extra_warning_msg=_LOGISTIC_SOLVER_CONVERGENCE_MSG,\n",
            "/usr/local/lib/python3.7/dist-packages/sklearn/linear_model/_logistic.py:818: ConvergenceWarning: lbfgs failed to converge (status=1):\n",
            "STOP: TOTAL NO. of ITERATIONS REACHED LIMIT.\n",
            "\n",
            "Increase the number of iterations (max_iter) or scale the data as shown in:\n",
            "    https://scikit-learn.org/stable/modules/preprocessing.html\n",
            "Please also refer to the documentation for alternative solver options:\n",
            "    https://scikit-learn.org/stable/modules/linear_model.html#logistic-regression\n",
            "  extra_warning_msg=_LOGISTIC_SOLVER_CONVERGENCE_MSG,\n"
          ]
        }
      ]
    },
    {
      "cell_type": "code",
      "source": [
        "print(np.mean(scores['test_score']))"
      ],
      "metadata": {
        "colab": {
          "base_uri": "https://localhost:8080/"
        },
        "id": "CpCW4TW9vhph",
        "outputId": "90e7a1f5-404e-4a11-95f5-fb240e3995ec"
      },
      "execution_count": null,
      "outputs": [
        {
          "output_type": "stream",
          "name": "stdout",
          "text": [
            "0.9655007805405902\n"
          ]
        }
      ]
    },
    {
      "cell_type": "markdown",
      "source": [
        "변수별 계수 시각화"
      ],
      "metadata": {
        "id": "tHFDa8no1dh_"
      }
    },
    {
      "cell_type": "markdown",
      "source": [
        "계수의 부호로 인하여 내림차순으로 30개 오름차순으로 30개를 출력한 후 시각화를 진행"
      ],
      "metadata": {
        "id": "foJoWRJhV-3R"
      }
    },
    {
      "cell_type": "code",
      "source": [
        "print(datas.columns.shape);print(logistic.coef_.shape)"
      ],
      "metadata": {
        "colab": {
          "base_uri": "https://localhost:8080/"
        },
        "id": "hWaQNIjFi7Mw",
        "outputId": "0d845765-c999-415e-f41f-7d919975f1ca"
      },
      "execution_count": null,
      "outputs": [
        {
          "output_type": "stream",
          "name": "stdout",
          "text": [
            "(187,)\n",
            "(1, 187)\n"
          ]
        }
      ]
    },
    {
      "cell_type": "code",
      "source": [
        "visul = pd.DataFrame()\n",
        "\n",
        "visul['col'] = datas.columns\n",
        "visul['coef'] = logistic.coef_[0,]\n",
        "\n",
        "visul.sort_values(by = 'coef', inplace = True, ascending=False) # 내림차순"
      ],
      "metadata": {
        "id": "LSGTDcxTxTnu"
      },
      "execution_count": null,
      "outputs": []
    },
    {
      "cell_type": "code",
      "source": [
        "n = 30 # 상위 몇개를 출력할 것인지\n",
        "plt.rcParams[\"font.family\"] = \"Malgun Gothic\"\n",
        "n_features = datas[:n].shape[1]\n",
        "plt.barh(range(n), visul['coef'][:n],align='center')\n",
        "plt.yticks(np.arange(n), visul['col'][:n])\n",
        "plt.tick_params(axis='y',  labelsize=6, width=2)\n",
        "plt.ylim(-1, n)\n",
        "plt.savefig('logistic_coef_decending_female_2021.png',dpi=400, pad_inches=5.2)"
      ],
      "metadata": {
        "colab": {
          "base_uri": "https://localhost:8080/",
          "height": 265
        },
        "id": "dEfcRBEezDAW",
        "outputId": "2b649151-125e-45cd-edc8-7208e9d017b0"
      },
      "execution_count": null,
      "outputs": [
        {
          "output_type": "display_data",
          "data": {
            "text/plain": [
              "<Figure size 432x288 with 1 Axes>"
            ],
            "image/png": "[encoded data removed]"
          },
          "metadata": {
            "needs_background": "light"
          }
        }
      ]
    },
    {
      "cell_type": "code",
      "source": [
        "visul = pd.DataFrame()\n",
        "\n",
        "visul['col'] = datas.columns\n",
        "visul['coef'] = logistic.coef_[0,]\n",
        "\n",
        "visul.sort_values(by = 'coef', inplace = True, ascending=True) # 오름차순"
      ],
      "metadata": {
        "id": "X0CKOa4R38Rk"
      },
      "execution_count": null,
      "outputs": []
    },
    {
      "cell_type": "code",
      "source": [
        "n = 30 # 상위 몇개를 출력할 것인지\n",
        "plt.rcParams[\"font.family\"] = \"Malgun Gothic\"\n",
        "n_features = datas[:n].shape[1]\n",
        "plt.barh(range(n), visul['coef'][:n],align='center')\n",
        "plt.yticks(np.arange(n), visul['col'][:n])\n",
        "plt.tick_params(axis='y',  labelsize=6, width=2)\n",
        "plt.ylim(-1, n)\n",
        "plt.savefig('logistic_coef_ascending_female_2021.png',dpi=400, pad_inches=4.2)"
      ],
      "metadata": {
        "colab": {
          "base_uri": "https://localhost:8080/",
          "height": 265
        },
        "id": "mOGbqO2A3_Ks",
        "outputId": "31cbefd0-4c98-459d-9d71-a0f45a6abaae"
      },
      "execution_count": null,
      "outputs": [
        {
          "output_type": "display_data",
          "data": {
            "text/plain": [
              "<Figure size 432x288 with 1 Axes>"
            ],
            "image/png": "[encoded data removed]"
          },
          "metadata": {
            "needs_background": "light"
          }
        }
      ]
    },
    {
      "cell_type": "markdown",
      "source": [
        "변수별 계수 시각화 (절대값)"
      ],
      "metadata": {
        "id": "N6cIe3Ch4OtK"
      }
    },
    {
      "cell_type": "code",
      "source": [
        "visul = pd.DataFrame()\n",
        "\n",
        "visul['col'] = datas.columns\n",
        "visul['coef'] = abs(logistic.coef_)[0,]\n",
        "\n",
        "visul.sort_values(by = 'coef', inplace = True, ascending=False) # 내림차순"
      ],
      "metadata": {
        "id": "MYvWr4im4hge"
      },
      "execution_count": null,
      "outputs": []
    },
    {
      "cell_type": "code",
      "source": [
        "n = 30 # 상위 몇개를 출력할 것인지\n",
        "plt.rcParams[\"font.family\"] = \"Malgun Gothic\"\n",
        "n_features = datas[:n].shape[1]\n",
        "plt.barh(range(n), visul['coef'][:n],align='center')\n",
        "plt.yticks(np.arange(n), visul['col'][:n])\n",
        "plt.tick_params(axis='y',  labelsize=6, width=2)\n",
        "plt.ylim(-1, n)\n",
        "plt.savefig('logistic_coef_abs_female_2021.png',dpi=400, pad_inches=4.2) "
      ],
      "metadata": {
        "colab": {
          "base_uri": "https://localhost:8080/",
          "height": 265
        },
        "id": "FcwwldXO4OQE",
        "outputId": "277d89d4-ac8f-4821-b25e-8cd792cc1022"
      },
      "execution_count": null,
      "outputs": [
        {
          "output_type": "display_data",
          "data": {
            "text/plain": [
              "<Figure size 432x288 with 1 Axes>"
            ],
            "image/png": "[encoded data removed]"
          },
          "metadata": {
            "needs_background": "light"
          }
        }
      ]
    },
    {
      "cell_type": "markdown",
      "source": [
        "# [결정트리]"
      ],
      "metadata": {
        "id": "Th1LS1zAvsyE"
      }
    },
    {
      "cell_type": "markdown",
      "source": [
        "모델 생성 및 정확도 출력"
      ],
      "metadata": {
        "id": "95Tw2Epz1or0"
      }
    },
    {
      "cell_type": "code",
      "source": [
        "from sklearn.tree import DecisionTreeClassifier\n",
        "\n",
        "# 모델 생성 및 학습 시키기\n",
        "tree = DecisionTreeClassifier(random_state=0)\n",
        "tree.fit(X_train, y_train)\n",
        "\n",
        "#모델 정확도 출력\n",
        "print(\"훈련 세트 정확도: {:.3f}\".format(tree.score(X_train, y_train)))\n",
        "print(\"테스트 세트 정확도: {:.3f}\".format(tree.score(X_test, y_test)))"
      ],
      "metadata": {
        "colab": {
          "base_uri": "https://localhost:8080/"
        },
        "id": "x7hj5sEvvsQ1",
        "outputId": "1955d593-aa21-4889-ec84-0d02ae6fbdb3"
      },
      "execution_count": null,
      "outputs": [
        {
          "output_type": "stream",
          "name": "stdout",
          "text": [
            "훈련 세트 정확도: 1.000\n",
            "테스트 세트 정확도: 0.941\n"
          ]
        }
      ]
    },
    {
      "cell_type": "code",
      "source": [
        "scores = cross_validate(tree, X_test, y_test, cv = StratifiedKFold())\n",
        "print(np.mean(scores['test_score']))"
      ],
      "metadata": {
        "colab": {
          "base_uri": "https://localhost:8080/"
        },
        "id": "FT96Z-MgvpIB",
        "outputId": "fad39b9a-7d87-411d-a6a3-174045ba1490"
      },
      "execution_count": null,
      "outputs": [
        {
          "output_type": "stream",
          "name": "stdout",
          "text": [
            "0.9434856230764768\n"
          ]
        }
      ]
    },
    {
      "cell_type": "markdown",
      "source": [
        "변수별 중요도 출력"
      ],
      "metadata": {
        "id": "qCjb2ud61sWm"
      }
    },
    {
      "cell_type": "code",
      "source": [
        "visul = pd.DataFrame()\n",
        "\n",
        "visul['col'] = datas.columns\n",
        "visul['coef'] = tree.feature_importances_\n",
        "\n",
        "visul.sort_values(by = 'coef', inplace = True, ascending=False) # 내림차순"
      ],
      "metadata": {
        "id": "m7ro8ZN85GFY"
      },
      "execution_count": null,
      "outputs": []
    },
    {
      "cell_type": "code",
      "source": [
        "n = 30 # 상위 몇개를 출력할 것인지\n",
        "plt.rcParams[\"font.family\"] = \"Malgun Gothic\"\n",
        "n_features = datas[:n].shape[1]\n",
        "plt.barh(range(n), visul['coef'][:n],align='center')\n",
        "plt.yticks(np.arange(n), visul['col'][:n])\n",
        "plt.tick_params(axis='y',  labelsize=6, width=2)\n",
        "plt.xlabel(\"feature_importance\")\n",
        "plt.ylabel(\"feature\")\n",
        "plt.ylim(-1, n)\n",
        "plt.savefig('tree_variable_importance(female)_2021.png',dpi=400, pad_inches=5.2) "
      ],
      "metadata": {
        "colab": {
          "base_uri": "https://localhost:8080/",
          "height": 280
        },
        "id": "tW0A9hXD5FJk",
        "outputId": "32023e67-07c5-4cc9-f6f6-d5fd35aee38d"
      },
      "execution_count": null,
      "outputs": [
        {
          "output_type": "display_data",
          "data": {
            "text/plain": [
              "<Figure size 432x288 with 1 Axes>"
            ],
            "image/png": "[encoded data removed]"
          },
          "metadata": {
            "needs_background": "light"
          }
        }
      ]
    },
    {
      "cell_type": "markdown",
      "source": [
        "# [랜덤 포레스트]"
      ],
      "metadata": {
        "id": "FKqZpwBa2Blk"
      }
    },
    {
      "cell_type": "markdown",
      "source": [
        "모델 생성 및 정확도 출력"
      ],
      "metadata": {
        "id": "l07BSOIu3342"
      }
    },
    {
      "cell_type": "code",
      "source": [
        "from sklearn.ensemble import RandomForestClassifier\n",
        "from sklearn.metrics import accuracy_score \n",
        "\n",
        "# 모델 생성 및 학습 시키기\n",
        "rf = RandomForestClassifier(random_state=0)\n",
        "rf.fit(X_train, y_train)\n",
        "\n",
        "# 모델 정확도 출력\n",
        "predict1 = rf.predict(X_train)\n",
        "predict2 = rf.predict(X_test)\n",
        "\n",
        "print(\"훈련 세트 정확도: {:.3f}\".format(accuracy_score(y_train, predict1)))\n",
        "print(\"테스트 세트 정확도: {:.3f}\".format(accuracy_score(y_test, predict2)))"
      ],
      "metadata": {
        "colab": {
          "base_uri": "https://localhost:8080/"
        },
        "id": "Ue-ITM2k1_pw",
        "outputId": "8a1c408e-5e3e-4cd7-a303-99dec03bce95"
      },
      "execution_count": null,
      "outputs": [
        {
          "output_type": "stream",
          "name": "stdout",
          "text": [
            "훈련 세트 정확도: 1.000\n",
            "테스트 세트 정확도: 0.966\n"
          ]
        }
      ]
    },
    {
      "cell_type": "code",
      "source": [
        "scores = cross_validate(rf, X_test, y_test, cv = StratifiedKFold())\n",
        "print(np.mean(scores['test_score']))"
      ],
      "metadata": {
        "colab": {
          "base_uri": "https://localhost:8080/"
        },
        "id": "mDLvm4kJv0xr",
        "outputId": "6b5166bb-31ed-470c-a1af-d3c477b55227"
      },
      "execution_count": null,
      "outputs": [
        {
          "output_type": "stream",
          "name": "stdout",
          "text": [
            "0.9671434912899226\n"
          ]
        }
      ]
    },
    {
      "cell_type": "markdown",
      "source": [
        "변수별 중요도 출력"
      ],
      "metadata": {
        "id": "CWuFfFsu39jC"
      }
    },
    {
      "cell_type": "code",
      "source": [
        "visul = pd.DataFrame()\n",
        "\n",
        "visul['col'] = datas.columns\n",
        "visul['coef'] =rf.feature_importances_\n",
        "\n",
        "visul.sort_values(by = 'coef', inplace = True, ascending=False) # 내림차순"
      ],
      "metadata": {
        "id": "bMyV8cQP6B9z"
      },
      "execution_count": null,
      "outputs": []
    },
    {
      "cell_type": "code",
      "source": [
        "n = 30 # 상위 몇개를 출력할 것인지\n",
        "plt.rcParams[\"font.family\"] = \"Malgun Gothic\"\n",
        "n_features = datas[:n].shape[1]\n",
        "plt.barh(range(n), visul['coef'][:n],align='center')\n",
        "plt.yticks(np.arange(n), visul['col'][:n])\n",
        "plt.tick_params(axis='y',  labelsize=6, width=2)\n",
        "plt.xlabel(\"feature_importance\")\n",
        "plt.ylabel(\"feature\")\n",
        "plt.ylim(-1, n)\n",
        "plt.savefig('rf_variable_importance(female)_2021.png',dpi=400, pad_inches=4.2) "
      ],
      "metadata": {
        "colab": {
          "base_uri": "https://localhost:8080/",
          "height": 280
        },
        "id": "ipaT4nFV3e-0",
        "outputId": "ebc7c61a-6669-4ded-8a6d-a97d7c6714c2"
      },
      "execution_count": null,
      "outputs": [
        {
          "output_type": "display_data",
          "data": {
            "text/plain": [
              "<Figure size 432x288 with 1 Axes>"
            ],
            "image/png": "[encoded data removed]"
          },
          "metadata": {
            "needs_background": "light"
          }
        }
      ]
    }
  ]
}
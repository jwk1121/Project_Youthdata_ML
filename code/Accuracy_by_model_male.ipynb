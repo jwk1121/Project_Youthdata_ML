{
  "nbformat": 4,
  "nbformat_minor": 0,
  "metadata": {
    "colab": {
      "provenance": [],
      "collapsed_sections": []
    },
    "kernelspec": {
      "name": "python3",
      "display_name": "Python 3"
    },
    "language_info": {
      "name": "python"
    },
    "gpuClass": "standard"
  },
  "cells": [
    {
      "cell_type": "markdown",
      "source": [
        "# 데이터 전처리"
      ],
      "metadata": {
        "id": "VS9s0XKbyXGT"
      }
    },
    {
      "cell_type": "code",
      "source": [
        "import pandas as pd\n",
        "import numpy as np\n",
        "import matplotlib.pyplot as plt\n",
        "from sklearn.preprocessing import StandardScaler"
      ],
      "metadata": {
        "id": "wcJ-opJCmVzo"
      },
      "execution_count": null,
      "outputs": []
    },
    {
      "cell_type": "code",
      "source": [
        "from google.colab import drive\n",
        "drive.mount('/content/drive') # 내 드라이브에 있는 데이터를 읽을 때 사용(코랩에 구글 드라이브를 연결시켜주는 코드)"
      ],
      "metadata": {
        "id": "HpamFjpzmXZO",
        "colab": {
          "base_uri": "https://localhost:8080/"
        },
        "outputId": "e6f8fc75-7b12-467c-c672-be50d42f8fb5"
      },
      "execution_count": null,
      "outputs": [
        {
          "output_type": "stream",
          "name": "stdout",
          "text": [
            "Mounted at /content/drive\n"
          ]
        }
      ]
    },
    {
      "cell_type": "code",
      "source": [
        "data = pd.read_csv('/content/drive/MyDrive/랩실/[간호대]data/y2019_male.csv',encoding='cp949') \n",
        "#data = pd.read_csv('/content/drive/MyDrive/랩실/[간호대]data/y2020_male.csv',encoding='cp949') \n",
        "#data = pd.read_csv('/content/drive/MyDrive/랩실/[간호대]data/y2021_male.csv',encoding='cp949')"
      ],
      "metadata": {
        "id": "NXlnQv_Pmae5"
      },
      "execution_count": null,
      "outputs": []
    },
    {
      "cell_type": "code",
      "source": [
        "data.columns"
      ],
      "metadata": {
        "id": "33FG8Demmb3J",
        "colab": {
          "base_uri": "https://localhost:8080/"
        },
        "outputId": "151b86ed-d023-455c-8685-3f503c79fd9a"
      },
      "execution_count": null,
      "outputs": [
        {
          "output_type": "execute_result",
          "data": {
            "text/plain": [
              "Index(['Unnamed: 0', 'S_SI', 'MH', 'SCHOOL', 'STYPE', 'CTYPE', 'E_RES',\n",
              "       'E_SES', 'E_S_RCRD', 'GRADE', 'PR_HT', 'PR_BI', 'F_BR', 'bmi', 'WC_MN',\n",
              "       'M_STR', 'M_SLP_EN', 'M_SAD', 'M_SUI_CON', 'M_SUI_PLN', 'M_SUI_ATT',\n",
              "       'V_TRT', 'AC_LT', 'AC_FAGE', 'AC_DAYS', 'AC_AMNT', 'AC_ACCESS',\n",
              "       'TC_A_LT', 'TC_FAGE', 'TC_ACCESS', 'DR_EXP', 'SEX', 'S_EDU', 'MF', 'RF',\n",
              "       'FN2', 'parents2', 'INT_WK_MM', 'INT_WD_MM', 'F_CS', 'PA_VIG', 'PA_WLK',\n",
              "       'PA_PE_FQ', 'PA_ST', 'O_BR_S', 'TC_AMNT', 'TC_QT_YR', 'PA_SWD_N',\n",
              "       'PA_SWD_S', 'PA_SWK_N', 'PA_SWK_S'],\n",
              "      dtype='object')"
            ]
          },
          "metadata": {},
          "execution_count": 72
        }
      ]
    },
    {
      "cell_type": "code",
      "source": [
        "data.set_index(keys='Unnamed: 0',inplace=True) #index를 Unnamed: 0으로 바꿔줌\n",
        "data.dropna(inplace=True)\n",
        "\n",
        "data['MH'].replace({'고등학교':0,'중학교': 1}, inplace=True)\n",
        "data['SCHOOL'].replace({'일반계고':0,'중학교': 1,'특성화계고':2}, inplace=True)\n",
        "data['STYPE'].replace({'남녀공학':0,'남학교': 1}, inplace=True)\n",
        "data['CTYPE'].replace({'군지역':0,'대도시': 1,'중소도시':2}, inplace=True)"
      ],
      "metadata": {
        "id": "lo9TlWPVqyLm"
      },
      "execution_count": null,
      "outputs": []
    },
    {
      "cell_type": "code",
      "source": [
        "# 데이터 형식을 카테고리형으로 변경하기 (수치형 변수로 사용할 변수는 반드시 삭제!) (SEX, S_FAGE 삭제!!)\n",
        "a = ['MH', 'SCHOOL', 'STYPE', 'CTYPE', 'E_RES',\n",
        "       'E_SES', 'E_S_RCRD', 'GRADE', 'PR_HT', 'PR_BI', 'F_BR', 'bmi', 'WC_MN',\n",
        "       'M_STR', 'M_SLP_EN', 'M_SAD', 'M_SUI_CON', 'M_SUI_PLN', 'M_SUI_ATT',\n",
        "       'V_TRT', 'AC_LT', 'AC_FAGE', 'AC_DAYS', 'AC_AMNT', 'AC_ACCESS',\n",
        "       'TC_A_LT', 'TC_FAGE', 'TC_ACCESS', 'DR_EXP', 'S_EDU', 'MF', 'RF',\n",
        "       'FN2', 'parents2', 'F_CS', 'PA_VIG', 'PA_WLK',\n",
        "       'PA_PE_FQ', 'PA_ST', 'O_BR_S', 'TC_AMNT', 'TC_QT_YR']\n",
        "# S_SI는 안 넣어도 됨\n",
        "\n",
        "# 2019년 수치형 변수: 'PA_SWD_N', 'PA_SWD_S', 'PA_SWK_N', 'PA_SWK_S', 'INT_WK_MM', 'INT_WD_MM'\n",
        "\n",
        "# 2020년 수치형 변수: 'PA_SWD_N', 'PA_SWD_S', 'PA_SWK_N', 'PA_SWK_S', 'INT_SPWD_TM', 'INT_SPWK_TM' \n",
        "\n",
        "# 2021년 수치형 변수: 'PA_SWD_N', 'PA_SWD_S', 'PA_SWK_N', 'PA_SWK_S', 'INT_SPWD_TM', 'INT_SPWK_TM'\n",
        "\n",
        "for i in a:\n",
        "  data[i] = data[i].astype('category')"
      ],
      "metadata": {
        "id": "mNMUiR2Tsx9Z"
      },
      "execution_count": null,
      "outputs": []
    },
    {
      "cell_type": "code",
      "source": [
        "#수치형 변수는 스케일링을 해야 함\n",
        "\n",
        "# 2019년 수치형 변수: 'PA_SWD_N', 'PA_SWD_S', 'PA_SWK_N', 'PA_SWK_S', 'INT_WK_MM', 'INT_WD_MM'\n",
        "\n",
        "# 2020년 수치형 변수: 'PA_SWD_N', 'PA_SWD_S', 'PA_SWK_N', 'PA_SWK_S', 'INT_SPWD_TM', 'INT_SPWK_TM' \n",
        "\n",
        "# 2021년 수치형 변수: 'PA_SWD_N', 'PA_SWD_S', 'PA_SWK_N', 'PA_SWK_S', 'INT_SPWD_TM', 'INT_SPWK_TM'\n",
        "\n",
        "scaler= StandardScaler()\n",
        "\n",
        "#공통\n",
        "data['PA_SWD_N'] = scaler.fit_transform(data[['PA_SWD_N']])\n",
        "data['PA_SWD_S'] = scaler.fit_transform(data[['PA_SWD_S']])\n",
        "data['PA_SWK_N'] = scaler.fit_transform(data[['PA_SWK_N']])\n",
        "data['PA_SWK_S'] = scaler.fit_transform(data[['PA_SWK_S']])\n",
        "\n",
        "#년도별로 다름\n",
        "data['INT_WK_MM'] = scaler.fit_transform(data[['INT_WK_MM']])\n",
        "data['INT_WD_MM'] = scaler.fit_transform(data[['INT_WD_MM']])"
      ],
      "metadata": {
        "id": "s7Vkzj965xTM"
      },
      "execution_count": null,
      "outputs": []
    },
    {
      "cell_type": "code",
      "source": [
        "# columns에서 S_SI, SEX, S_FAGE 빼고 복붙\n",
        "\n",
        "datas = data[['MH', 'SCHOOL', 'STYPE', 'CTYPE', 'E_RES',\n",
        "       'E_SES', 'E_S_RCRD', 'GRADE', 'PR_HT', 'PR_BI', 'F_BR', 'bmi', 'WC_MN',\n",
        "       'M_STR', 'M_SLP_EN', 'M_SAD', 'M_SUI_CON', 'M_SUI_PLN', 'M_SUI_ATT',\n",
        "       'V_TRT', 'AC_LT', 'AC_FAGE', 'AC_DAYS', 'AC_AMNT', 'AC_ACCESS',\n",
        "       'TC_A_LT', 'TC_FAGE', 'TC_ACCESS', 'DR_EXP', 'S_EDU', 'MF', 'RF',\n",
        "       'FN2', 'parents2', 'INT_WK_MM', 'INT_WD_MM', 'F_CS', 'PA_VIG', 'PA_WLK',\n",
        "       'PA_PE_FQ', 'PA_ST', 'O_BR_S', 'TC_AMNT', 'TC_QT_YR', 'PA_SWD_N',\n",
        "       'PA_SWD_S', 'PA_SWK_N', 'PA_SWK_S']]\n",
        "\n",
        "data_target = data['S_SI']"
      ],
      "metadata": {
        "id": "y7j3W3kV5xFw"
      },
      "execution_count": null,
      "outputs": []
    },
    {
      "cell_type": "code",
      "source": [
        "# category 변수들을 더미변수로 변환\n",
        "datas = pd.get_dummies(datas, columns = a)"
      ],
      "metadata": {
        "id": "tvMkw8LZtNmO"
      },
      "execution_count": null,
      "outputs": []
    },
    {
      "cell_type": "code",
      "source": [
        "# 변환이 잘 되었는지 확인 # length가 너무 크면 수치형 변수가 더미 처리 된것임\n",
        "datas.columns"
      ],
      "metadata": {
        "id": "iqVD168LG_pt",
        "colab": {
          "base_uri": "https://localhost:8080/"
        },
        "outputId": "a3b55b26-8639-45ad-c79e-8b9dbdc1ea66"
      },
      "execution_count": null,
      "outputs": [
        {
          "output_type": "execute_result",
          "data": {
            "text/plain": [
              "Index(['INT_WK_MM', 'INT_WD_MM', 'PA_SWD_N', 'PA_SWD_S', 'PA_SWK_N',\n",
              "       'PA_SWK_S', 'MH_0', 'MH_1', 'SCHOOL_0', 'SCHOOL_1',\n",
              "       ...\n",
              "       'TC_AMNT_1', 'TC_AMNT_2', 'TC_AMNT_3', 'TC_AMNT_4', 'TC_AMNT_5',\n",
              "       'TC_AMNT_6', 'TC_AMNT_9999', 'TC_QT_YR_1', 'TC_QT_YR_2',\n",
              "       'TC_QT_YR_9999'],\n",
              "      dtype='object', length=200)"
            ]
          },
          "metadata": {},
          "execution_count": 78
        }
      ]
    },
    {
      "cell_type": "code",
      "source": [
        "#stratify 값을 target으로 지정해주면 각각의 class 비율(ratio)을 train / validation에 유지\n",
        "from sklearn.model_selection import train_test_split\n",
        "X_train, X_test, y_train, y_test = train_test_split(\n",
        "    datas, data_target, stratify=data_target, random_state=42) "
      ],
      "metadata": {
        "id": "0rXtn_bHtPjK"
      },
      "execution_count": null,
      "outputs": []
    },
    {
      "cell_type": "markdown",
      "source": [
        "# [로지스틱 회귀]"
      ],
      "metadata": {
        "id": "kpHm3C7Fv1iD"
      }
    },
    {
      "cell_type": "markdown",
      "source": [
        "모델 생성 및 정확도 출력"
      ],
      "metadata": {
        "id": "eytUQotF1eL1"
      }
    },
    {
      "cell_type": "code",
      "source": [
        "from sklearn.linear_model import LogisticRegression\n",
        "\n",
        "# 모델 생성 및 학습 시키기\n",
        "logistic = LogisticRegression(random_state=0)\n",
        "logistic.fit(X_train, y_train)\n",
        "\n",
        "#모델 정확도 출력\n",
        "print(\"훈련 세트 정확도: {:.3f}\".format(logistic.score(X_train,y_train)))\n",
        "print(\"테스트 세트 정확도: {:.3f}\".format(logistic.score(X_test, y_test)))"
      ],
      "metadata": {
        "colab": {
          "base_uri": "https://localhost:8080/"
        },
        "id": "eNtetf6qvy5A",
        "outputId": "50a7ef42-aa8b-4f21-b2e1-ed1f675a8812"
      },
      "execution_count": null,
      "outputs": [
        {
          "output_type": "stream",
          "name": "stdout",
          "text": [
            "훈련 세트 정확도: 0.940\n",
            "테스트 세트 정확도: 0.938\n"
          ]
        },
        {
          "output_type": "stream",
          "name": "stderr",
          "text": [
            "/usr/local/lib/python3.7/dist-packages/sklearn/linear_model/_logistic.py:818: ConvergenceWarning: lbfgs failed to converge (status=1):\n",
            "STOP: TOTAL NO. of ITERATIONS REACHED LIMIT.\n",
            "\n",
            "Increase the number of iterations (max_iter) or scale the data as shown in:\n",
            "    https://scikit-learn.org/stable/modules/preprocessing.html\n",
            "Please also refer to the documentation for alternative solver options:\n",
            "    https://scikit-learn.org/stable/modules/linear_model.html#logistic-regression\n",
            "  extra_warning_msg=_LOGISTIC_SOLVER_CONVERGENCE_MSG,\n"
          ]
        }
      ]
    },
    {
      "cell_type": "markdown",
      "source": [
        "변수별 계수 시각화"
      ],
      "metadata": {
        "id": "tHFDa8no1dh_"
      }
    },
    {
      "cell_type": "markdown",
      "source": [
        "계수의 부호로 인하여 내림차순으로 30개 오름차순으로 30개를 출력한 후 시각화를 진행"
      ],
      "metadata": {
        "id": "qCsxOlW47Gey"
      }
    },
    {
      "cell_type": "code",
      "source": [
        "visul = pd.DataFrame()\n",
        "\n",
        "visul['col'] = datas.columns\n",
        "visul['coef'] = logistic.coef_[0,]\n",
        "\n",
        "visul.sort_values(by = 'coef', inplace = True, ascending=False) # 내림차순"
      ],
      "metadata": {
        "id": "ZIDT15ft63zn"
      },
      "execution_count": null,
      "outputs": []
    },
    {
      "cell_type": "code",
      "source": [
        "n = 30 # 상위 몇개를 출력할 것인지\n",
        "plt.rcParams[\"font.family\"] = \"Malgun Gothic\"\n",
        "n_features = datas[:n].shape[1]\n",
        "plt.barh(range(n), visul['coef'][:n],align='center')\n",
        "plt.yticks(np.arange(n), visul['col'][:n])\n",
        "plt.tick_params(axis='y',  labelsize=6, width=2)\n",
        "plt.ylim(-1, n)\n",
        "plt.savefig('logistic_coef_decending_male_2019.png',dpi=400, pad_inches=4.2)"
      ],
      "metadata": {
        "colab": {
          "base_uri": "https://localhost:8080/",
          "height": 265
        },
        "id": "dEfcRBEezDAW",
        "outputId": "fda3d98e-78cb-46c7-9a22-9e12e9fa7141"
      },
      "execution_count": null,
      "outputs": [
        {
          "output_type": "display_data",
          "data": {
            "text/plain": [
              "<Figure size 432x288 with 1 Axes>"
            ],
            "image/png": "[encoded data removed]"
          },
          "metadata": {
            "needs_background": "light"
          }
        }
      ]
    },
    {
      "cell_type": "code",
      "source": [
        "visul = pd.DataFrame()\n",
        "\n",
        "visul['col'] = datas.columns\n",
        "visul['coef'] = logistic.coef_[0,]\n",
        "\n",
        "visul.sort_values(by = 'coef', inplace = True, ascending=True) # 오름차순"
      ],
      "metadata": {
        "id": "A28_qwcM7KVj"
      },
      "execution_count": null,
      "outputs": []
    },
    {
      "cell_type": "code",
      "source": [
        "n = 30 # 상위 몇개를 출력할 것인지\n",
        "plt.rcParams[\"font.family\"] = \"Malgun Gothic\"\n",
        "n_features = datas[:n].shape[1]\n",
        "plt.barh(range(n), visul['coef'][:n],align='center')\n",
        "plt.yticks(np.arange(n), visul['col'][:n])\n",
        "plt.tick_params(axis='y',  labelsize=6, width=2)\n",
        "plt.ylim(-1, n)\n",
        "plt.savefig('logistic_coef_ascending_male_2019.png',dpi=400, pad_inches=4.2)"
      ],
      "metadata": {
        "id": "Btm_PA7x7M_p",
        "colab": {
          "base_uri": "https://localhost:8080/",
          "height": 265
        },
        "outputId": "e36b904c-97b3-4c17-fa93-3758d49509a6"
      },
      "execution_count": null,
      "outputs": [
        {
          "output_type": "display_data",
          "data": {
            "text/plain": [
              "<Figure size 432x288 with 1 Axes>"
            ],
            "image/png": "[encoded data removed]"
          },
          "metadata": {
            "needs_background": "light"
          }
        }
      ]
    },
    {
      "cell_type": "markdown",
      "source": [
        "변수별 계수 시각화 (절대값)"
      ],
      "metadata": {
        "id": "N6cIe3Ch4OtK"
      }
    },
    {
      "cell_type": "code",
      "source": [
        "visul = pd.DataFrame()\n",
        "\n",
        "visul['col'] = datas.columns\n",
        "visul['coef'] = abs(logistic.coef_)[0,]\n",
        "\n",
        "visul.sort_values(by = 'coef', inplace = True, ascending=False) # 내림차순"
      ],
      "metadata": {
        "id": "tXsN6sL37QMn"
      },
      "execution_count": null,
      "outputs": []
    },
    {
      "cell_type": "code",
      "source": [
        "n = 30 # 상위 몇개를 출력할 것인지\n",
        "plt.rcParams[\"font.family\"] = \"Malgun Gothic\"\n",
        "n_features = datas[:n].shape[1]\n",
        "plt.barh(range(n), visul['coef'][:n],align='center')\n",
        "plt.yticks(np.arange(n), visul['col'][:n])\n",
        "plt.tick_params(axis='y',  labelsize=6, width=2)\n",
        "plt.ylim(-1, n)\n",
        "plt.savefig('logistic_coef_abs_male_2019.png',dpi=400, pad_inches=4.2)"
      ],
      "metadata": {
        "colab": {
          "base_uri": "https://localhost:8080/",
          "height": 265
        },
        "id": "FcwwldXO4OQE",
        "outputId": "4e722d1e-56bd-423d-9a83-938785a3d3d0"
      },
      "execution_count": null,
      "outputs": [
        {
          "output_type": "display_data",
          "data": {
            "text/plain": [
              "<Figure size 432x288 with 1 Axes>"
            ],
            "image/png": "[encoded data removed]"
          },
          "metadata": {
            "needs_background": "light"
          }
        }
      ]
    },
    {
      "cell_type": "markdown",
      "source": [
        "# [결정트리]"
      ],
      "metadata": {
        "id": "Th1LS1zAvsyE"
      }
    },
    {
      "cell_type": "markdown",
      "source": [
        "모델 생성 및 정확도 출력"
      ],
      "metadata": {
        "id": "95Tw2Epz1or0"
      }
    },
    {
      "cell_type": "code",
      "source": [
        "from sklearn.tree import DecisionTreeClassifier\n",
        "\n",
        "# 모델 생성 및 학습 시키기\n",
        "tree = DecisionTreeClassifier(random_state=0)\n",
        "tree.fit(X_train, y_train)\n",
        "\n",
        "#모델 정확도 출력\n",
        "print(\"훈련 세트 정확도: {:.3f}\".format(tree.score(X_train, y_train)))\n",
        "print(\"테스트 세트 정확도: {:.3f}\".format(tree.score(X_test, y_test)))"
      ],
      "metadata": {
        "colab": {
          "base_uri": "https://localhost:8080/"
        },
        "id": "x7hj5sEvvsQ1",
        "outputId": "442308ce-72c4-46e8-ee83-61f2e3364e7f"
      },
      "execution_count": null,
      "outputs": [
        {
          "output_type": "stream",
          "name": "stdout",
          "text": [
            "훈련 세트 정확도: 1.000\n",
            "테스트 세트 정확도: 0.894\n"
          ]
        }
      ]
    },
    {
      "cell_type": "markdown",
      "source": [
        "변수별 중요도 출력"
      ],
      "metadata": {
        "id": "qCjb2ud61sWm"
      }
    },
    {
      "cell_type": "code",
      "source": [
        "visul = pd.DataFrame()\n",
        "\n",
        "visul['col'] = datas.columns\n",
        "visul['coef'] = tree.feature_importances_\n",
        "\n",
        "visul.sort_values(by = 'coef', inplace = True, ascending=False) # 내림차순"
      ],
      "metadata": {
        "id": "iQf_7Nt47TYN"
      },
      "execution_count": null,
      "outputs": []
    },
    {
      "cell_type": "code",
      "source": [
        "n = 30 # 상위 몇개를 출력할 것인지\n",
        "plt.rcParams[\"font.family\"] = \"Malgun Gothic\"\n",
        "n_features = datas[:n].shape[1]\n",
        "plt.barh(range(n), visul['coef'][:n],align='center')\n",
        "plt.yticks(np.arange(n), visul['col'][:n])\n",
        "plt.tick_params(axis='y',  labelsize=6, width=2)\n",
        "plt.xlabel(\"feature_importance\")\n",
        "plt.ylabel(\"feature\")\n",
        "plt.ylim(-1, n)\n",
        "plt.savefig('tree_variable_importance(male)_2019.png',dpi=400, pad_inches=4.2) "
      ],
      "metadata": {
        "colab": {
          "base_uri": "https://localhost:8080/",
          "height": 280
        },
        "id": "FN3-UdE70NKL",
        "outputId": "e363af04-1f3e-4be6-f4c4-c7b10f7857ed"
      },
      "execution_count": null,
      "outputs": [
        {
          "output_type": "display_data",
          "data": {
            "text/plain": [
              "<Figure size 432x288 with 1 Axes>"
            ],
            "image/png": "[encoded data removed]"
          },
          "metadata": {
            "needs_background": "light"
          }
        }
      ]
    },
    {
      "cell_type": "markdown",
      "source": [
        "# [랜덤 포레스트]"
      ],
      "metadata": {
        "id": "FKqZpwBa2Blk"
      }
    },
    {
      "cell_type": "markdown",
      "source": [
        "모델 생성 및 정확도 출력"
      ],
      "metadata": {
        "id": "l07BSOIu3342"
      }
    },
    {
      "cell_type": "code",
      "source": [
        "from sklearn.ensemble import RandomForestClassifier\n",
        "from sklearn.metrics import accuracy_score \n",
        "\n",
        "# 모델 생성 및 학습 시키기\n",
        "rf = RandomForestClassifier(random_state=0)\n",
        "rf.fit(X_train, y_train)\n",
        "\n",
        "# 모델 정확도 출력\n",
        "predict1 = rf.predict(X_train)\n",
        "predict2 = rf.predict(X_test)\n",
        "\n",
        "print(\"훈련 세트 정확도: {:.3f}\".format(accuracy_score(y_train, predict1)))\n",
        "print(\"테스트 세트 정확도: {:.3f}\".format(accuracy_score(y_test, predict2)))"
      ],
      "metadata": {
        "colab": {
          "base_uri": "https://localhost:8080/"
        },
        "id": "Ue-ITM2k1_pw",
        "outputId": "7d978f4a-b29c-4adc-a507-8d2550a182ff"
      },
      "execution_count": null,
      "outputs": [
        {
          "output_type": "stream",
          "name": "stdout",
          "text": [
            "훈련 세트 정확도: 1.000\n",
            "테스트 세트 정확도: 0.938\n"
          ]
        }
      ]
    },
    {
      "cell_type": "markdown",
      "source": [
        "변수별 중요도 출력"
      ],
      "metadata": {
        "id": "CWuFfFsu39jC"
      }
    },
    {
      "cell_type": "code",
      "source": [
        "visul = pd.DataFrame()\n",
        "\n",
        "visul['col'] = datas.columns\n",
        "visul['coef'] =rf.feature_importances_\n",
        "\n",
        "visul.sort_values(by = 'coef', inplace = True, ascending=False) # 내림차순"
      ],
      "metadata": {
        "id": "Z4Cw9M9C7cTX"
      },
      "execution_count": null,
      "outputs": []
    },
    {
      "cell_type": "code",
      "source": [
        "n = 30 # 상위 몇개를 출력할 것인지\n",
        "plt.rcParams[\"font.family\"] = \"Malgun Gothic\"\n",
        "n_features = datas[:n].shape[1]\n",
        "plt.barh(range(n), visul['coef'][:n],align='center')\n",
        "plt.yticks(np.arange(n), visul['col'][:n])\n",
        "plt.tick_params(axis='y',  labelsize=6, width=2)\n",
        "plt.xlabel(\"feature_importance\")\n",
        "plt.ylabel(\"feature\")\n",
        "plt.ylim(-1, n)\n",
        "plt.savefig('rf_variable_importance(male)_2019.png',dpi=400, pad_inches=4.2) "
      ],
      "metadata": {
        "colab": {
          "base_uri": "https://localhost:8080/",
          "height": 280
        },
        "id": "ipaT4nFV3e-0",
        "outputId": "dfb9f17f-bbce-4e1a-812f-60c2e1399113"
      },
      "execution_count": null,
      "outputs": [
        {
          "output_type": "display_data",
          "data": {
            "text/plain": [
              "<Figure size 432x288 with 1 Axes>"
            ],
            "image/png": "[encoded data removed]"
          },
          "metadata": {
            "needs_background": "light"
          }
        }
      ]
    }
  ]
}
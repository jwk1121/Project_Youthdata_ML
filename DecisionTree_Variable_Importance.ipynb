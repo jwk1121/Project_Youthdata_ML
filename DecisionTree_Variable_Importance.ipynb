{
  "nbformat": 4,
  "nbformat_minor": 0,
  "metadata": {
    "colab": {
      "name": "DecisionTree_Variable_Importance",
      "provenance": []
    },
    "kernelspec": {
      "name": "python3",
      "display_name": "Python 3"
    },
    "language_info": {
      "name": "python"
    },
    "accelerator": "GPU",
    "gpuClass": "standard"
  },
  "cells": [
    {
      "cell_type": "code",
      "execution_count": 85,
      "metadata": {
        "id": "jbV5zfAMFGcn"
      },
      "outputs": [],
      "source": [
        "from sklearn.tree import DecisionTreeClassifier\n",
        "from sklearn.model_selection import train_test_split\n",
        "import pandas as pd\n",
        "import numpy as np\n",
        "import matplotlib.pyplot as plt"
      ]
    },
    {
      "cell_type": "code",
      "source": [
        "data=pd.read_csv('/content/y2019_male.csv',encoding='cp949')\n",
        "data.columns"
      ],
      "metadata": {
        "colab": {
          "base_uri": "https://localhost:8080/"
        },
        "id": "4H7Y-X_AFPvb",
        "outputId": "c87662a9-f134-4658-828d-0dea3250b279"
      },
      "execution_count": 67,
      "outputs": [
        {
          "output_type": "execute_result",
          "data": {
            "text/plain": [
              "Index(['Unnamed: 0', 'S_SI', 'MH', 'SCHOOL', 'STYPE', 'CTYPE', 'E_RES',\n",
              "       'E_SES', 'E_S_RCRD', 'GRADE', 'PR_HT', 'PR_BI', 'F_BR', 'PA_MSC', 'bmi',\n",
              "       'WC_MN', 'M_STR', 'M_SLP_EN', 'M_SAD', 'M_SUI_CON', 'M_SUI_PLN',\n",
              "       'M_SUI_ATT', 'V_TRT', 'AC_LT', 'AC_FAGE', 'AC_DAYS', 'AC_AMNT',\n",
              "       'AC_ACCESS', 'TC_A_LT', 'TC_FAGE', 'TC_ACCESS', 'DR_EXP', 'SEX',\n",
              "       'S_EDU', 'MF', 'RF', 'FN2', 'parents2', 'INT_WK_MM', 'INT_WD_MM'],\n",
              "      dtype='object')"
            ]
          },
          "metadata": {},
          "execution_count": 67
        }
      ]
    },
    {
      "cell_type": "code",
      "source": [
        "data.set_index(keys='Unnamed: 0',inplace=True) #index를 Unnamed: 0으로 바꿔줌\n",
        "data.dropna(inplace=True)"
      ],
      "metadata": {
        "id": "MW1fS08jF6IM"
      },
      "execution_count": 68,
      "outputs": []
    },
    {
      "cell_type": "code",
      "source": [
        "print(data.dtypes)\n",
        "print('\\n')\n",
        "print(data.head(10))"
      ],
      "metadata": {
        "id": "F-nrbRe5Ggpy"
      },
      "execution_count": null,
      "outputs": []
    },
    {
      "cell_type": "code",
      "source": [
        "a = ['S_SI', 'MH', 'SCHOOL', 'STYPE', 'CTYPE', 'E_RES',\n",
        "       'E_SES', 'E_S_RCRD', 'GRADE', 'PR_HT', 'PR_BI', 'F_BR', 'PA_MSC', 'bmi',\n",
        "       'WC_MN', 'M_STR', 'M_SLP_EN', 'M_SAD', 'M_SUI_CON', 'M_SUI_PLN',\n",
        "       'M_SUI_ATT', 'V_TRT', 'AC_LT', 'AC_FAGE', 'AC_DAYS', 'AC_AMNT',\n",
        "       'AC_ACCESS', 'TC_A_LT', 'TC_FAGE', 'TC_ACCESS', 'DR_EXP', 'SEX',\n",
        "       'S_EDU', 'MF', 'RF', 'FN2', 'parents2', 'INT_WK_MM', 'INT_WD_MM']\n",
        "\n",
        "\n",
        "for i in a:\n",
        "  data[i] = data[i].astype('category')\n",
        "\n",
        "for i in a:\n",
        "  print(data[i].unique)"
      ],
      "metadata": {
        "id": "ATwQ71BrLNH1"
      },
      "execution_count": null,
      "outputs": []
    },
    {
      "cell_type": "code",
      "source": [
        "data['MH'].replace({'고등학교':0,'중학교': 1}, inplace=True)\n",
        "data['SCHOOL'].replace({'일반계고':0,'중학교': 1,'특성화계고':2}, inplace=True)\n",
        "data['STYPE'].replace({'남녀공학':0,'남학교': 1}, inplace=True)\n",
        "data['CTYPE'].replace({'군지역':0,'대도시': 1,'중소도시':2}, inplace=True)\n",
        "\n",
        "for i in a:\n",
        "  data[i] = data[i].astype('category')"
      ],
      "metadata": {
        "id": "BbX83ZnuOHO7"
      },
      "execution_count": 70,
      "outputs": []
    },
    {
      "cell_type": "code",
      "source": [
        "data.dtypes"
      ],
      "metadata": {
        "id": "raj3Wn55O_EK"
      },
      "execution_count": null,
      "outputs": []
    },
    {
      "cell_type": "code",
      "source": [
        "data.dropna()\n",
        "datas = data[['MH', 'SCHOOL', 'STYPE', 'CTYPE', 'E_RES',\n",
        "       'E_SES', 'E_S_RCRD', 'GRADE', 'PR_HT', 'PR_BI', 'F_BR', 'PA_MSC', 'bmi',\n",
        "       'WC_MN', 'M_STR', 'M_SLP_EN', 'M_SAD', 'M_SUI_CON', 'M_SUI_PLN',\n",
        "       'M_SUI_ATT', 'V_TRT', 'AC_LT', 'AC_FAGE', 'AC_DAYS', 'AC_AMNT',\n",
        "       'AC_ACCESS', 'TC_A_LT', 'TC_FAGE', 'TC_ACCESS', 'DR_EXP', 'SEX',\n",
        "       'S_EDU', 'MF', 'RF', 'FN2', 'parents2', 'INT_WK_MM', 'INT_WD_MM']]\n",
        "\n",
        "data_target = data['S_SI']"
      ],
      "metadata": {
        "id": "nHODwf1gIYnR"
      },
      "execution_count": 81,
      "outputs": []
    },
    {
      "cell_type": "code",
      "source": [
        "X_train, X_test, y_train, y_test = train_test_split(\n",
        "    datas, data_target, stratify=data_target, random_state=42) #stratify 값을 target으로 지정해주면 각각의 class 비율(ratio)을 train / validation에 유지\n",
        "\n",
        "tree = DecisionTreeClassifier(max_depth=4,random_state=0)\n",
        "tree.fit(X_train, y_train)\n",
        "print(\"훈련 세트 정확도: {:.3f}\".format(tree.score(X_train, y_train)))\n",
        "print(\"테스트 세트 정확도: {:.3f}\".format(tree.score(X_test, y_test)))"
      ],
      "metadata": {
        "colab": {
          "base_uri": "https://localhost:8080/"
        },
        "id": "UbNsNXEzIcDr",
        "outputId": "51a04c9f-5eed-4339-e152-a8ca2fdf2359"
      },
      "execution_count": 83,
      "outputs": [
        {
          "output_type": "stream",
          "name": "stdout",
          "text": [
            "훈련 세트 정확도: 0.938\n",
            "테스트 세트 정확도: 0.937\n"
          ]
        }
      ]
    },
    {
      "cell_type": "code",
      "source": [
        "print(\"특성 중요도:\\n{}\".format(tree.feature_importances_))"
      ],
      "metadata": {
        "colab": {
          "base_uri": "https://localhost:8080/"
        },
        "id": "3M7DpBz7Qrpi",
        "outputId": "c47adc48-17ec-4eb9-d986-405fe58b9e2c"
      },
      "execution_count": 84,
      "outputs": [
        {
          "output_type": "stream",
          "name": "stdout",
          "text": [
            "특성 중요도:\n",
            "[0.         0.         0.         0.         0.         0.\n",
            " 0.00487727 0.         0.         0.         0.         0.\n",
            " 0.         0.         0.         0.         0.         0.\n",
            " 0.         0.         0.00348173 0.03135313 0.01971035 0.00804126\n",
            " 0.12224157 0.04834941 0.         0.1646578  0.59728748 0.\n",
            " 0.         0.         0.         0.         0.         0.\n",
            " 0.         0.        ]\n"
          ]
        }
      ]
    },
    {
      "cell_type": "code",
      "source": [
        "data.shape[1]"
      ],
      "metadata": {
        "colab": {
          "base_uri": "https://localhost:8080/"
        },
        "id": "TIdg6aNkSAW2",
        "outputId": "966aabc6-5065-4d07-d66f-314ceaf56171"
      },
      "execution_count": 86,
      "outputs": [
        {
          "output_type": "execute_result",
          "data": {
            "text/plain": [
              "39"
            ]
          },
          "metadata": {},
          "execution_count": 86
        }
      ]
    },
    {
      "cell_type": "code",
      "source": [
        "def plot_feature_importances_cancer(model):\n",
        "    n_features = datas.shape[1]\n",
        "    plt.barh(range(n_features), model.feature_importances_, align='center')\n",
        "    plt.yticks(np.arange(n_features), datas.columns)\n",
        "    plt.tick_params(axis='y',  labelsize=5, width=2)\n",
        "    plt.xlabel(\"feature_importance\")\n",
        "    plt.ylabel(\"feature\")\n",
        "    plt.ylim(-1, n_features)\n",
        "    plt.savefig('savefig_default.png',dpi=200)\n",
        "\n",
        "plot_feature_importances_cancer(tree)"
      ],
      "metadata": {
        "colab": {
          "base_uri": "https://localhost:8080/",
          "height": 280
        },
        "id": "uqKE5kXIRl9A",
        "outputId": "f17f0704-f4dc-4e6d-ac99-0173bf07ffe0"
      },
      "execution_count": 95,
      "outputs": [
        {
          "output_type": "display_data",
          "data": {
            "text/plain": [
              "<Figure size 432x288 with 1 Axes>"
            ],
            "image/png": "[encoded data removed]"
          },
          "metadata": {
            "needs_background": "light"
          }
        }
      ]
    }
  ]
}